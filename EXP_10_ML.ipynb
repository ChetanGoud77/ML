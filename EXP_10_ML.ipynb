{
  "nbformat": 4,
  "nbformat_minor": 0,
  "metadata": {
    "colab": {
      "provenance": [],
      "authorship_tag": "ABX9TyNib6ioj/fvlieKfdD3vi0O",
      "include_colab_link": true
    },
    "kernelspec": {
      "name": "python3",
      "display_name": "Python 3"
    },
    "language_info": {
      "name": "python"
    }
  },
  "cells": [
    {
      "cell_type": "markdown",
      "metadata": {
        "id": "view-in-github",
        "colab_type": "text"
      },
      "source": [
        "<a href=\"https://colab.research.google.com/github/ChetanGoud77/ML/blob/main/EXP_10_ML.ipynb\" target=\"_parent\"><img src=\"https://colab.research.google.com/assets/colab-badge.svg\" alt=\"Open In Colab\"/></a>"
      ]
    },
    {
      "cell_type": "code",
      "execution_count": 1,
      "metadata": {
        "colab": {
          "base_uri": "https://localhost:8080/"
        },
        "id": "KrruBo-n5YUM",
        "outputId": "b0ac0c81-aed1-4d14-b0e1-3a44f35cabc0"
      },
      "outputs": [
        {
          "output_type": "stream",
          "name": "stdout",
          "text": [
            "Model Accuracy: 0.9555555555555556\n",
            "\n",
            "Decision Tree Rules:\n",
            " |--- petal width (cm) <= 0.80\n",
            "|   |--- class: setosa\n",
            "|--- petal width (cm) >  0.80\n",
            "|   |--- petal width (cm) <= 1.65\n",
            "|   |   |--- petal length (cm) <= 5.00\n",
            "|   |   |   |--- class: versicolor\n",
            "|   |   |--- petal length (cm) >  5.00\n",
            "|   |   |   |--- sepal length (cm) <= 6.05\n",
            "|   |   |   |   |--- class: versicolor\n",
            "|   |   |   |--- sepal length (cm) >  6.05\n",
            "|   |   |   |   |--- class: virginica\n",
            "|   |--- petal width (cm) >  1.65\n",
            "|   |   |--- petal length (cm) <= 4.85\n",
            "|   |   |   |--- sepal width (cm) <= 3.10\n",
            "|   |   |   |   |--- class: virginica\n",
            "|   |   |   |--- sepal width (cm) >  3.10\n",
            "|   |   |   |   |--- class: versicolor\n",
            "|   |   |--- petal length (cm) >  4.85\n",
            "|   |   |   |--- class: virginica\n",
            "\n"
          ]
        }
      ],
      "source": [
        "import pandas as pd\n",
        "from sklearn.datasets import load_iris\n",
        "from sklearn.tree import DecisionTreeClassifier, export_text\n",
        "from sklearn.model_selection import train_test_split\n",
        "from sklearn import metrics\n",
        "iris = load_iris()\n",
        "data = pd.DataFrame(data=iris.data, columns=iris.feature_names)\n",
        "data['Species'] = iris.target\n",
        "target_dict = {0: 'setosa', 1: 'versicolor', 2: 'virginica'}\n",
        "data['Species'] = data['Species'].map(target_dict)\n",
        "X = data[iris.feature_names]\n",
        "y = data['Species']\n",
        "X_train, X_test, y_train, y_test = train_test_split(X, y, test_size=0.3, random_state=1)\n",
        "clf = DecisionTreeClassifier()\n",
        "clf = clf.fit(X_train, y_train)\n",
        "y_pred = clf.predict(X_test)\n",
        "accuracy = metrics.accuracy_score(y_test, y_pred)\n",
        "print(\"Model Accuracy:\", accuracy)\n",
        "tree_rules = export_text(clf, feature_names=iris.feature_names)\n",
        "print(\"\\nDecision Tree Rules:\\n\", tree_rules)"
      ]
    },
    {
      "cell_type": "code",
      "source": [
        "import numpy as np\n",
        "import pandas as pd\n",
        "from sklearn.model_selection import train_test_split\n",
        "from sklearn.tree import DecisionTreeClassifier\n",
        "from sklearn.metrics import accuracy_score\n",
        "\n",
        "# Create a sample dataset\n",
        "data = {\n",
        "    'Feature1': [1, 2, 3, 4, 5, 6, 7, 8, 9, 10],\n",
        "    'Feature2': [2, 4, 1, 3, 6, 8, 5, 7, 10, 9],\n",
        "    'Target': [0, 0, 0, 1, 1, 1, 1, 1, 1, 1]\n",
        "}\n",
        "df = pd.DataFrame(data)\n",
        "\n",
        "# Split the dataset into features (X) and target variable (y)\n",
        "X = df[['Feature1', 'Feature2']]\n",
        "y = df['Target']\n",
        "\n",
        "# Split the data into training and testing sets\n",
        "X_train, X_test, y_train, y_test = train_test_split(X, y, test_size=0.2, random_state=42)\n",
        "\n",
        "# Train a decision tree model\n",
        "model = DecisionTreeClassifier()\n",
        "model.fit(X_train, y_train)\n",
        "\n",
        "# Make predictions on the test set\n",
        "y_pred = model.predict(X_test)\n",
        "\n",
        "# Calculate the accuracy of the model\n",
        "accuracy = accuracy_score(y_test, y_pred)\n",
        "print(f'Accuracy: {accuracy:.2f}')\n",
        "\n",
        "# Check if the accuracy meets the desired threshold (97%)\n",
        "desired_accuracy = 0.97\n",
        "if accuracy >= desired_accuracy:\n",
        "    print(f'Model accuracy meets the desired threshold of {desired_accuracy:.2%}')\n",
        "else:\n",
        "    print(f'Model accuracy does not meet the desired threshold of {desired_accuracy:.2%}')\n"
      ],
      "metadata": {
        "colab": {
          "base_uri": "https://localhost:8080/"
        },
        "id": "bb65KDS96QbM",
        "outputId": "809ebcaf-c310-4aeb-dd65-c8c4850407b8"
      },
      "execution_count": 4,
      "outputs": [
        {
          "output_type": "stream",
          "name": "stdout",
          "text": [
            "Accuracy: 1.00\n",
            "Model accuracy meets the desired threshold of 97.00%\n"
          ]
        }
      ]
    }
  ]
}
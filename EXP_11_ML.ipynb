{
  "nbformat": 4,
  "nbformat_minor": 0,
  "metadata": {
    "colab": {
      "provenance": [],
      "authorship_tag": "ABX9TyOFp4D/SPxqZ0+psa+SKbXb",
      "include_colab_link": true
    },
    "kernelspec": {
      "name": "python3",
      "display_name": "Python 3"
    },
    "language_info": {
      "name": "python"
    }
  },
  "cells": [
    {
      "cell_type": "markdown",
      "metadata": {
        "id": "view-in-github",
        "colab_type": "text"
      },
      "source": [
        "<a href=\"https://colab.research.google.com/github/ChetanGoud77/ML/blob/main/EXP_11_ML.ipynb\" target=\"_parent\"><img src=\"https://colab.research.google.com/assets/colab-badge.svg\" alt=\"Open In Colab\"/></a>"
      ]
    },
    {
      "cell_type": "code",
      "execution_count": 3,
      "metadata": {
        "colab": {
          "base_uri": "https://localhost:8080/"
        },
        "id": "3x5ygNE9-HHp",
        "outputId": "4613586d-e7e4-4b06-ea5e-31166c5a5e97"
      },
      "outputs": [
        {
          "output_type": "stream",
          "name": "stdout",
          "text": [
            "Accuracy: 0.9927272727272727\n",
            "\n",
            "Classification Report:\n",
            "               precision    recall  f1-score   support\n",
            "\n",
            "           0       0.99      1.00      0.99       148\n",
            "           1       1.00      0.98      0.99       127\n",
            "\n",
            "    accuracy                           0.99       275\n",
            "   macro avg       0.99      0.99      0.99       275\n",
            "weighted avg       0.99      0.99      0.99       275\n",
            "\n"
          ]
        }
      ],
      "source": [
        "import pandas as pd\n",
        "from sklearn.model_selection import train_test_split\n",
        "from sklearn.ensemble import RandomForestClassifier\n",
        "from sklearn.metrics import accuracy_score, classification_report\n",
        "# Load dataset (Iris dataset as an example)\n",
        "df = pd.read_csv(\"bill_authentication.csv\")  # Replace with your dataset\n",
        "# Split into features (X) and target (y)\n",
        "X = df.drop(columns=[\"Class\"])  # Adjust column name if needed\n",
        "y = df[\"Class\"]\n",
        "# Split into training and testing sets\n",
        "X_train, X_test, y_train, y_test = train_test_split(X, y, test_size=0.2,\n",
        "random_state=42)\n",
        "# Train Random Forest model\n",
        "model = RandomForestClassifier(n_estimators=100, random_state=42)\n",
        "model.fit(X_train, y_train)\n",
        "# Predict and evaluate\n",
        "y_pred = model.predict(X_test)\n",
        "print(\"Accuracy:\", accuracy_score(y_test, y_pred))\n",
        "print(\"\\nClassification Report:\\n\", classification_report(y_test, y_pred))"
      ]
    },
    {
      "cell_type": "code",
      "source": [
        "import pandas as pd\n",
        "from sklearn.model_selection import train_test_split\n",
        "from sklearn.ensemble import RandomForestClassifier\n",
        "from sklearn.metrics import accuracy_score\n",
        "# Load dataset (example: bill authentication dataset)\n",
        "df = pd.read_csv(\"bill_authentication.csv\")  # Replace with your dataset\n",
        "# Split into features (X) and target (y)\n",
        "X = df.drop(columns=[\"Class\"])  # Adjust column name if needed\n",
        "y = df[\"Class\"]\n",
        "# Train Random Forest model with OOB score enabled\n",
        "model = RandomForestClassifier(n_estimators=100, oob_score=True,\n",
        "random_state=42)\n",
        "model.fit(X, y)\n",
        "# Calculate OOB error\n",
        "oob_error = 1 - model.oob_score_\n",
        "print(\"OOB Error:\", oob_error)"
      ],
      "metadata": {
        "colab": {
          "base_uri": "https://localhost:8080/"
        },
        "id": "lPo5PgBO-TYR",
        "outputId": "456caa63-50f6-4800-f189-cf10cdfaf81f"
      },
      "execution_count": 2,
      "outputs": [
        {
          "output_type": "stream",
          "name": "stdout",
          "text": [
            "OOB Error: 0.005102040816326481\n"
          ]
        }
      ]
    }
  ]
}